{
  "nbformat": 4,
  "nbformat_minor": 0,
  "metadata": {
    "kernelspec": {
      "display_name": "Python 3",
      "language": "python",
      "name": "python3"
    },
    "language_info": {
      "codemirror_mode": {
        "name": "ipython",
        "version": 3
      },
      "file_extension": ".py",
      "mimetype": "text/x-python",
      "name": "python",
      "nbconvert_exporter": "python",
      "pygments_lexer": "ipython3",
      "version": "3.7.4"
    },
    "colab": {
      "name": "Datacamp local.ipynb",
      "provenance": [],
      "collapsed_sections": [],
      "include_colab_link": true
    }
  },
  "cells": [
    {
      "cell_type": "markdown",
      "metadata": {
        "id": "view-in-github",
        "colab_type": "text"
      },
      "source": [
        "<a href=\"https://colab.research.google.com/github/OmarMohammed88/Scraping_sites/blob/master/Datacamp(local%20version).ipynb\" target=\"_parent\"><img src=\"https://colab.research.google.com/assets/colab-badge.svg\" alt=\"Open In Colab\"/></a>"
      ]
    },
    {
      "cell_type": "code",
      "metadata": {
        "id": "5OA6QqAeU3jj",
        "colab_type": "code",
        "colab": {}
      },
      "source": [
        "import os \n",
        "from bs4 import BeautifulSoup\n",
        "#import requests\n",
        "from selenium import webdriver\n",
        "from selenium.webdriver.chrome.options import Options  \n",
        "from selenium.webdriver.common.keys import Keys\n",
        "from selenium.webdriver.common.by import By\n",
        "from selenium.webdriver.support.wait import WebDriverWait\n",
        "from selenium.webdriver.support import expected_conditions as EC\n",
        "import pandas as pd\n",
        "from pymongo import MongoClient\n",
        "from collections.abc import Iterable\n",
        "import warnings\n",
        "import time\n",
        "import requests\n",
        "import urllib.request as urllib2\n",
        "from bs4 import BeautifulSoup\n",
        "from selenium.webdriver.common.keys import Keys\n",
        "from selenium.common.exceptions import NoSuchElementException\n",
        "from selenium.webdriver.support import expected_conditions\n",
        "from selenium.webdriver.common.action_chains import ActionChains\n",
        "from selenium.common.exceptions import TimeoutException\n",
        "from selenium.common.exceptions import StaleElementReferenceException\n",
        "from selenium.common.exceptions import ElementClickInterceptedException\n",
        "import selenium.common.exceptions "
      ],
      "execution_count": 0,
      "outputs": []
    },
    {
      "cell_type": "code",
      "metadata": {
        "id": "FWI2T_6KU3jo",
        "colab_type": "code",
        "colab": {}
      },
      "source": [
        "options = webdriver.ChromeOptions()\n",
        "options.add_argument('--no-sandbox')\n",
        "options.add_argument('--disable-dev-shm-usage')\n",
        "driver = webdriver.Chrome(r'C:\\Users\\Ali\\Downloads\\chromedriver_win32\\chromedriver.exe',options=options)\n",
        "driver.get('https://www.datacamp.com/users/sign_in')\n"
      ],
      "execution_count": 0,
      "outputs": []
    },
    {
      "cell_type": "code",
      "metadata": {
        "id": "2IYsOd8xU3js",
        "colab_type": "code",
        "colab": {}
      },
      "source": [
        "def create(url):\n",
        "    browser = webdriver.Chrome(r'/home/omarmohamed/myprojectdir/chromedriver')\n",
        "    browser.get(url)\n",
        "    return browser"
      ],
      "execution_count": 0,
      "outputs": []
    },
    {
      "cell_type": "code",
      "metadata": {
        "id": "o4WBfgM3U3j0",
        "colab_type": "code",
        "colab": {}
      },
      "source": [
        "def setEmail(email):\n",
        "    WebDriverWait(driver,20).until(EC.presence_of_element_located((By.ID,'user_email'))).send_keys(email)\n",
        "    WebDriverWait(driver,20).until(EC.element_to_be_clickable((By.CLASS_NAME,'dc-btn.dc-btn--secondary.dc-btn--block.dc-account-modal__next-btn.js-account-check-email'))).click()\n",
        "\n",
        "\n",
        "\n",
        "def setPassword(password):\n",
        "    Xpath='//*[@id=\"user_password\"]'\n",
        "    passwordField=WebDriverWait(driver,20).until(EC.presence_of_element_located((By.XPATH,Xpath)))\n",
        "    if passwordField:\n",
        "        passwordField.send_keys(password)\n",
        "    \n",
        "\n",
        "def rememberMe():\n",
        "    driver.find_element_by_class_name(\"dc-input-checkbox\").click()\n",
        "\n",
        "\n",
        "\n",
        "\n",
        "def login(email,passowrd):\n",
        "    try:\n",
        "        setEmail(email)\n",
        "        #rememberMe()\n",
        "        driver.implicitly_wait(5)\n",
        "        setPassword(passowrd)\n",
        "        WebDriverWait(driver,20).until(EC.element_to_be_clickable((By.NAME,\"commit\"))).click()\n",
        "    except NoSuchElementException:\n",
        "        print(\"Error in setting password\")\n",
        "\n",
        "\n",
        "\n",
        "def loginCourse():\n",
        "        WebDriverWait(driver,20).until(EC.element_to_be_clickable((By.NAME,\"commit\"))).click()\n",
        "\n",
        "\n",
        "\n",
        "def moveToSigninPage():\n",
        "    classname=\"dc-btn.dc-btn--tertiary.dc-u-color-white.js-modal-open.js-sign-in-modal-open.dc-temp-replacement\"\n",
        "    WebDriverWait(driver,20).until(EC.presence_of_element_located((By.CLASS_NAME,classname))).click()"
      ],
      "execution_count": 0,
      "outputs": []
    },
    {
      "cell_type": "code",
      "metadata": {
        "id": "tZESoFsiU3j3",
        "colab_type": "code",
        "colab": {}
      },
      "source": [
        "def isVideo():\n",
        "    try:\n",
        "        WebDriverWait(driver,20).until(EC.presence_of_element_located((By.CLASS_NAME,\"css-zmlfql-baseStyle-buttonStyle\")))\n",
        "        return True\n",
        "    except TimeoutException:\n",
        "        return False\n",
        "def skipVideo():\n",
        "    WebDriverWait(driver,20).until(EC.presence_of_element_located((By.CLASS_NAME,\"css-zmlfql-baseStyle-buttonStyle\"))).click()\n",
        "\n",
        "    \n",
        "def isAdverAboutMobile():\n",
        "    try:\n",
        "        adver=driver.find_element_by_class_name(\"mobile-popup.dc-u-pt-24.dc-u-pb-16.dc-u-ph-24\")\n",
        "        if adver:\n",
        "            driver.find_element_by_class_name(\"modal-open\").send_keys(Keys.ESCAPE)\n",
        "        \n",
        "    except NoSuchElementException:\n",
        "        print(\"Exception Aderv\")\n",
        "        \n",
        "        "
      ],
      "execution_count": 0,
      "outputs": []
    },
    {
      "cell_type": "code",
      "metadata": {
        "id": "7G44aS67U3j5",
        "colab_type": "code",
        "colab": {}
      },
      "source": [
        "def isAExerciseCode():\n",
        "    exercisecode=driver.find_elements_by_class_name(\"exercise--instructions.exercise--typography\")\n",
        "    if exercisecode:\n",
        "        return True\n",
        "    \n",
        "\n",
        "def showanswer():    \n",
        "    for click in range(2):\n",
        "        driver.find_element_by_class_name(\"listview__inner\").find_element_by_class_name(\"exercise--show-hint\").send_keys(Keys.CONTROL+\"H\")\n",
        "\n",
        "    \n",
        "def sumbitAnswer():\n",
        "   \n",
        "    xpath='//*[@id=\"gl-editorTabs-files/script.py\"]/div/div[2]/div[2]/button[3]'\n",
        "    WebDriverWait(driver,20).until(EC.presence_of_element_located((By.XPATH,xpath)))\n",
        "    driver.find_elements_by_class_name(\"ace_text-input\")[0].send_keys(Keys.CONTROL+Keys.SHIFT+Keys.ENTER)\n",
        "#     driver.execute_script('document.getElementsByClassName(\"css-1bm1oy-baseStyle-buttonStyle\")[0].click()')\n",
        "    \n",
        "\n",
        "def continueClick():\n",
        "    try:\n",
        "        driver.find_elements_by_class_name(\"dc-btn.dc-btn--green.u-spacing-t2.next-exercise.animation--shake\")[-1].send_keys(Keys.ENTER)    \n",
        "    except (IndexError,ElementNotInteractableException):\n",
        "        print(\"fkerrors\")\n",
        "    try:\n",
        "        driver.find_elements_by_class_name(\"dc-btn.dc-btn--green.u-spacing-t2.next-exercise.animation--shake\")[0].send_keys(Keys.ENTER)\n",
        "    except IndexError:\n",
        "        print(\"onar gay\")\n",
        "    try:\n",
        "        driver.find_elements_by_class_name(\"dc-completed__continue\")[-1].click()\n",
        "    except (IndexError,ElementClickInterceptedException):\n",
        "        print(\"gofki\")    \n",
        "#dc-btn dc-btn--green u-spacing-t2 next-exercise animation--shake"
      ],
      "execution_count": 0,
      "outputs": []
    },
    {
      "cell_type": "code",
      "metadata": {
        "id": "GQ1AOeqdU3j9",
        "colab_type": "code",
        "colab": {}
      },
      "source": [
        "def exerciseAnswer():\n",
        "    showanswer()\n",
        "    driver.find_elements_by_class_name(\"ace_text-input\")[1].send_keys(Keys.PAGE_DOWN+Keys.CONTROL+\"a\")\n",
        "    driver.find_elements_by_class_name(\"ace_text-input\")[1].send_keys(Keys.CONTROL+\"c\")\n",
        "    driver.refresh()\n",
        "    time.sleep(5)\n",
        "    driver.find_elements_by_class_name(\"ace_text-input\")[0].send_keys(Keys.CONTROL+\"a\"+Keys.DELETE)\n",
        "    driver.find_elements_by_class_name(\"ace_text-input\")[0].send_keys(Keys.CONTROL+\"v\")\n",
        "    \n",
        "    \n"
      ],
      "execution_count": 0,
      "outputs": []
    },
    {
      "cell_type": "code",
      "metadata": {
        "id": "qbNLOpJRU3kE",
        "colab_type": "code",
        "colab": {}
      },
      "source": [
        "def isOptions():\n",
        "    options=driver.find_elements_by_class_name('dc-input-radio__text')\n",
        "    if options:\n",
        "        return True\n",
        "def switchOfsubmitAnswer():\n",
        "    xpath_type1='//*[@id=\"gl-aside\"]/div/aside/div/div/div/div[2]/div[2]/div/div/div[2]/div/div[1]/button'\n",
        "    xpath_type2='/html/body/div[2]/div/div[1]/div[1]/section/div[3]/button'\n",
        "    buttonType1=driver.find_elements_by_xpath(xpath_type1)\n",
        "    buttonType2=driver.find_elements_by_xpath(xpath_type2)\n",
        "    if buttonType1:\n",
        "        driver.find_elements_by_xpath(xpath_type1)[0].send_keys(Keys.SHIFT+Keys.ENTER)\n",
        "    elif buttonType2:\n",
        "        driver.find_elements_by_xpath(xpath_type2)[0].send_keys(Keys.SHIFT+Keys.ENTER)\n",
        "\n",
        "\n",
        "def chooseOption():\n",
        "    flagDoNothing=0\n",
        "    options=driver.find_elements_by_class_name(\"dc-input-radio__text\")\n",
        "    if options:\n",
        "        for indexOfOptions in range(len(options)):\n",
        "            if flagDoNothing==1:\n",
        "                try:\n",
        "                    driver.find_elements_by_class_name(\"dc-btn.dc-btn--green.u-spacing-t2.next-exercise.animation--shake\")[-1].click()\n",
        "                except IndexError:\n",
        "                    #driver.find_elements_by_class_name(\"dc-btn.dc-btn--green.u-spacing-t2.next-exercise.animation--shake\")[0].click()\n",
        "                    print('1')\n",
        "\n",
        "            try:\n",
        "                options[indexOfOptions].click()\n",
        "                switchOfsubmitAnswer()\n",
        "                time.sleep(1)\n",
        "                complete=driver.find_elements_by_class_name(\"dc-completed__body\")\n",
        "            except (StaleElementReferenceException,ElementClickInterceptedException):\n",
        "                print(\"fk excpetion\")\n",
        "            if complete:\n",
        "                flagDoNothing=1\n",
        "            \n",
        " \n",
        "        \n",
        "           \n",
        "        \n",
        "            \n"
      ],
      "execution_count": 0,
      "outputs": []
    },
    {
      "cell_type": "code",
      "metadata": {
        "id": "CuBg5ZdsU3kI",
        "colab_type": "code",
        "colab": {}
      },
      "source": [
        "login(\"email\",\"pass\")"
      ],
      "execution_count": 0,
      "outputs": []
    },
    {
      "cell_type": "code",
      "metadata": {
        "id": "Tcg_iDH8U3kK",
        "colab_type": "code",
        "colab": {}
      },
      "source": [
        "#put her your link exercise\n",
        "time.sleep(7)\n",
        "driver.get(\"course link\")"
      ],
      "execution_count": 0,
      "outputs": []
    },
    {
      "cell_type": "code",
      "metadata": {
        "id": "RwmACzsdU3kM",
        "colab_type": "code",
        "colab": {}
      },
      "source": [
        "#find number of exrecises of all course\n",
        "driver.find_element_by_class_name(\"dc-nav-course__outline\").click()\n",
        "exerciseSection=driver.find_elements_by_class_name(\"course-outline__exercise\")\n",
        "driver.find_element_by_class_name(\"dc-icon-close\").click()\n"
      ],
      "execution_count": 0,
      "outputs": []
    },
    {
      "cell_type": "code",
      "metadata": {
        "id": "aMp57RG9U3kT",
        "colab_type": "code",
        "colab": {}
      },
      "source": [
        "exreciseFlag=0\n",
        "for exercise in exerciseSection:\n",
        "    if isVideo():\n",
        "        skipVideo()\n",
        "        isAdverAboutMobile()\n",
        "    if isAExerciseCode():\n",
        "        exerciseAnswer()\n",
        "        time.sleep(3)\n",
        "        sumbitAnswer()\n",
        "        time.sleep(7)\n",
        "        continueClick()\n",
        "    if  isOptions():\n",
        "        print(exercise)\n",
        "        chooseOption()\n",
        "        time.sleep(5)\n",
        "        #driver.find_elements_by_class_name(\"dc-btn__content\")[-1].click()\n",
        "        try:\n",
        "            driver.find_elements_by_class_name(\"css-zmlfql-baseStyle-buttonStyle\")[-1].click()\n",
        "        except IndexError:\n",
        "            print(\"fk errors\")\n",
        "        try:\n",
        "            driver.find_elements_by_class_name(\"dc-btn.dc-btn--green.u-spacing-t2.next-exercise.animation--shake\")[-1].click()\n",
        "        except:\n",
        "            print(\"fk errors\")\n",
        "        try:\n",
        "            driver.find_element_by_class_name(\"modal-open\").send_keys(Keys.ESCAPE)\n",
        "        except:\n",
        "            print(\"fk promo\")\n",
        "        try:\n",
        "            driver.find_elements_by_class_name(\"dc-btn.dc-btn--green.u-spacing-t2.next-exercise.animation--shake\")[-1].click()\n",
        "        except:\n",
        "            print(\"fk promo-errors\")\n",
        "        try:\n",
        "            driver.find_elements_by_class_name(\"dc-completed__continue\")[-1].click()\n",
        "        except:\n",
        "            print(\"gofki\")\n",
        "            \n",
        "            \n",
        "            \n",
        "           \n",
        "    exreciseFlag+=1\n"
      ],
      "execution_count": 0,
      "outputs": []
    },
    {
      "cell_type": "code",
      "metadata": {
        "id": "pPe3sxA_U3kX",
        "colab_type": "code",
        "colab": {}
      },
      "source": [
        ""
      ],
      "execution_count": 0,
      "outputs": []
    },
    {
      "cell_type": "code",
      "metadata": {
        "id": "OkrMExEFU3kZ",
        "colab_type": "code",
        "colab": {}
      },
      "source": [
        ""
      ],
      "execution_count": 0,
      "outputs": []
    },
    {
      "cell_type": "code",
      "metadata": {
        "id": "VRnYJ-CZU3kb",
        "colab_type": "code",
        "colab": {}
      },
      "source": [
        "# dc-promo-service-april_2020.dc-promo-service-dialog__wrapper.dc-u-ta-center"
      ],
      "execution_count": 0,
      "outputs": []
    }
  ]
}
