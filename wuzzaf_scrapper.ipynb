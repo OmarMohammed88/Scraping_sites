{
 "cells": [
  {
   "cell_type": "code",
   "execution_count": 27,
   "metadata": {},
   "outputs": [],
   "source": [
    "import re\n",
    "from selenium import webdriver\n",
    "from selenium.webdriver.support.wait import WebDriverWait\n",
    "from selenium.webdriver.support import expected_conditions as EC\n",
    "import pandas as pd\n",
    "from pymongo import MongoClient\n",
    "from collections.abc import Iterable\n",
    "import warnings\n",
    "import time"
   ]
  },
  {
   "cell_type": "code",
   "execution_count": 28,
   "metadata": {},
   "outputs": [],
   "source": [
    "client = MongoClient()\n",
    "DB_NAME = 'AA'\n",
    "db = client[DB_NAME]\n",
    "elmenus_collection = db['data']\n",
    "\n",
    "#cur_path = os.getcwd()"
   ]
  },
  {
   "cell_type": "code",
   "execution_count": 29,
   "metadata": {},
   "outputs": [],
   "source": [
    "def saveToDB(collection, city_areas_zones_dict):\n",
    "    \n",
    "    try:\n",
    "        #print(\"collection.count_documents({}): \",  collection.count_documents({}))\n",
    "        resultSet = collection.count_documents({\"prim\":city_areas_zones_dict[\"prim\"],\"jobfunc\":city_areas_zones_dict['job_func']})\n",
    "\n",
    "        if resultSet > 0:\n",
    "            #print(\"city_areas_zones_dict is already scrapped >> \", city_areas_zones_dict)\n",
    "            print(\"Skip!\")\n",
    "        else:\n",
    "           # print(\"New city_areas_zones_dict will be scrapped >> \", city_areas_zones_dict)\n",
    "            print(\"I will insert it!\")\n",
    "            collection.insert_one(city_areas_zones_dict)\n",
    "            \n",
    "    except Exception as e:\n",
    "        print('Exception : %s' % str(e))"
   ]
  },
  {
   "cell_type": "code",
   "execution_count": 30,
   "metadata": {},
   "outputs": [],
   "source": [
    "option = webdriver.ChromeOptions()\n",
    "option.add_argument(\" — incognito\")"
   ]
  },
  {
   "cell_type": "code",
   "execution_count": 31,
   "metadata": {},
   "outputs": [],
   "source": [
    "def create(url):\n",
    "    browser = webdriver.Chrome(r'C:\\Users\\Ali\\Downloads\\chromedriver_win32\\chromedriver.exe')\n",
    "    browser.get(url)\n",
    "    return browser"
   ]
  },
  {
   "cell_type": "code",
   "execution_count": 32,
   "metadata": {},
   "outputs": [],
   "source": [
    "def geter(link):\n",
    "        bwr = create(link)\n",
    "        job_title= bwr.find_element_by_class_name('job-title').text\n",
    "        job_industry=bwr.find_element_by_class_name('industries.labels-wrapper').text\n",
    "        job_function=bwr.find_element_by_class_name('labels-wrapper').text\n",
    "        indus=bwr.find_element_by_class_name('job-requirements.content-card')\n",
    "        job_skills=indus.find_element_by_class_name('labels-wrapper').text\n",
    "        job_req=indus.find_element_by_tag_name('span').text\n",
    "        disc=bwr.find_element_by_class_name('about-job.content-card')\n",
    "        job_disc=disc.find_element_by_tag_name('span').text\n",
    "        table = bwr.find_element_by_class_name('table').text\n",
    "        Dict = {'prim':1,'description':job_disc,'req':job_req,'skills':job_skills,'industry':job_industry,'job_func':job_function,'job_title':job_title}\n",
    "        saveToDB(elmenus_collection, Dict)\n",
    "        bwr.close()"
   ]
  },
  {
   "cell_type": "code",
   "execution_count": 33,
   "metadata": {},
   "outputs": [],
   "source": [
    "###intenship page special case###\n",
    "def internship_handler():\n",
    "    alllinks=[]\n",
    "    searchurl='https://wuzzuf.net/a/Internships-in-Egypt?page='\n",
    "    alljobs=[]\n",
    "    x=1\n",
    "    while True:\n",
    "        temp=create(searchurl+str(x))\n",
    "        alljobs= temp.find_elements_by_class_name('job-title')\n",
    "        for i in range(len(alljobs)):\n",
    "            alllinks.append(alljobs[i].get_attribute('href'))\n",
    "        temp.close()\n",
    "        x+=1\n",
    "        if (x==17):\n",
    "            break\n",
    "    return alllinks"
   ]
  },
  {
   "cell_type": "code",
   "execution_count": 41,
   "metadata": {
    "scrolled": false
   },
   "outputs": [],
   "source": [
    "def all_related_jobs(link):\n",
    "    alllinks=[]\n",
    "    alljobs=[]\n",
    "    x=0\n",
    "    try:\n",
    "        ###all other cases###\n",
    "        while True:\n",
    "            temp=create(link+str(x))\n",
    "            alljobs= temp.find_elements_by_class_name('job-title')\n",
    "            for i in range(len(alljobs)):\n",
    "                alllinks.append(alljobs[i].find_element_by_tag_name('a').get_attribute('href'))\n",
    "            temp.close()\n",
    "            x+=20\n",
    "            if(x==500):\n",
    "                break\n",
    "    except:\n",
    "        ###android special case###\n",
    "        while True:\n",
    "            android_handler=create(link+str(x))\n",
    "            alljobs= android_handler.find_elements_by_class_name('job-title')\n",
    "            for i in range(len(alljobs)):\n",
    "                alllinks.append(alljobs[i].get_attribute('href'))\n",
    "            android_handler.close()    \n",
    "            x+=1\n",
    "            if (x==8):\n",
    "                break\n",
    "        temp.close()           \n",
    "    return alllinks"
   ]
  },
  {
   "cell_type": "code",
   "execution_count": 35,
   "metadata": {},
   "outputs": [],
   "source": [
    "def browse_jobs(browser):\n",
    "    browser.find_element_by_class_name('dropdown.browse-jobs-mega-menu').click()\n",
    "    list_links=browser.find_elements_by_class_name(\"job-category-link.truncate\")\n",
    "    uneditedlist=[]\n",
    "    editedlist=[]\n",
    "    x='start='\n",
    "    for i in range(40):\n",
    "        uneditedlist.append(list_links[i].get_attribute('href'))\n",
    "    for i in range(len(uneditedlist)):\n",
    "        editedlist.append(re.sub(\"ref=browse-jobs.*$\", \"\", uneditedlist[i]))\n",
    "        editedlist[i]=editedlist[i]+x\n",
    "    del editedlist[20]   \n",
    "    return editedlist\n"
   ]
  },
  {
   "cell_type": "code",
   "execution_count": 36,
   "metadata": {},
   "outputs": [],
   "source": [
    "def scraper():\n",
    "    browser=create(\"https://wuzzuf.net/jobs/egypt\")\n",
    "    time.sleep(2)\n",
    "    editedlist=browse_jobs(browser)\n",
    "    all_jobs=[]\n",
    "    internship_list=internship_handler()\n",
    "    all_jobs=internship_list\n",
    "    print(len(all_jobs))\n",
    "    url=''\n",
    "    i=0\n",
    "    for x in range(len(editedlist)):\n",
    "        url=editedlist[x]\n",
    "        temp=all_related_jobs(url)\n",
    "        all_jobs=all_jobs+temp\n",
    "        print(len(all_jobs))\n",
    "    for i in range(len(all_jobs)):\n",
    "        geter(all_jobs[i])    "
   ]
  },
  {
   "cell_type": "code",
   "execution_count": null,
   "metadata": {},
   "outputs": [
    {
     "name": "stdout",
     "output_type": "stream",
     "text": [
      "400\n",
      "900\n"
     ]
    },
    {
     "name": "stderr",
     "output_type": "stream",
     "text": [
      "Exception ignored in: <function Service.__del__ at 0x0000024AF4C52828>\n",
      "Traceback (most recent call last):\n",
      "  File \"D:\\Applications\\Anaconda3\\lib\\site-packages\\selenium\\webdriver\\common\\service.py\", line 176, in __del__\n",
      "    self.stop()\n",
      "  File \"D:\\Applications\\Anaconda3\\lib\\site-packages\\selenium\\webdriver\\common\\service.py\", line 151, in stop\n",
      "    self.send_remote_shutdown_command()\n",
      "  File \"D:\\Applications\\Anaconda3\\lib\\site-packages\\selenium\\webdriver\\common\\service.py\", line 132, in send_remote_shutdown_command\n",
      "    if not self.is_connectable():\n",
      "  File \"D:\\Applications\\Anaconda3\\lib\\site-packages\\selenium\\webdriver\\common\\service.py\", line 115, in is_connectable\n",
      "    return utils.is_connectable(self.port)\n",
      "  File \"D:\\Applications\\Anaconda3\\lib\\site-packages\\selenium\\webdriver\\common\\utils.py\", line 106, in is_connectable\n",
      "    socket_ = socket.create_connection((host, port), 1)\n",
      "  File \"D:\\Applications\\Anaconda3\\lib\\socket.py\", line 716, in create_connection\n",
      "    sock.connect(sa)\n",
      "KeyboardInterrupt: \n"
     ]
    }
   ],
   "source": [
    "scraper()"
   ]
  },
  {
   "cell_type": "code",
   "execution_count": null,
   "metadata": {},
   "outputs": [],
   "source": [
    "\n"
   ]
  },
  {
   "cell_type": "code",
   "execution_count": null,
   "metadata": {},
   "outputs": [],
   "source": []
  },
  {
   "cell_type": "code",
   "execution_count": null,
   "metadata": {},
   "outputs": [],
   "source": []
  },
  {
   "cell_type": "code",
   "execution_count": 31,
   "metadata": {},
   "outputs": [],
   "source": []
  },
  {
   "cell_type": "code",
   "execution_count": null,
   "metadata": {},
   "outputs": [],
   "source": []
  },
  {
   "cell_type": "code",
   "execution_count": null,
   "metadata": {},
   "outputs": [],
   "source": []
  },
  {
   "cell_type": "code",
   "execution_count": null,
   "metadata": {},
   "outputs": [],
   "source": []
  },
  {
   "cell_type": "code",
   "execution_count": null,
   "metadata": {},
   "outputs": [],
   "source": []
  },
  {
   "cell_type": "code",
   "execution_count": null,
   "metadata": {},
   "outputs": [],
   "source": []
  },
  {
   "cell_type": "code",
   "execution_count": null,
   "metadata": {},
   "outputs": [],
   "source": []
  }
 ],
 "metadata": {
  "kernelspec": {
   "display_name": "Python 3",
   "language": "python",
   "name": "python3"
  },
  "language_info": {
   "codemirror_mode": {
    "name": "ipython",
    "version": 3
   },
   "file_extension": ".py",
   "mimetype": "text/x-python",
   "name": "python",
   "nbconvert_exporter": "python",
   "pygments_lexer": "ipython3",
   "version": "3.7.4"
  }
 },
 "nbformat": 4,
 "nbformat_minor": 2
}
