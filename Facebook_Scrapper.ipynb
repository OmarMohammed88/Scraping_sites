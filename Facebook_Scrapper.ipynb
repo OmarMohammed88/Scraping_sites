{
 "cells": [
  {
   "cell_type": "code",
   "execution_count": 1,
   "metadata": {},
   "outputs": [],
   "source": [
    "import os \n",
    "from bs4 import BeautifulSoup\n",
    "#import requests\n",
    "from selenium import webdriver\n",
    "from selenium.webdriver.chrome.options import Options  \n",
    "from selenium.webdriver.common.keys import Keys\n",
    "from selenium.webdriver.common.by import By\n",
    "from selenium.webdriver.support.wait import WebDriverWait\n",
    "from selenium.webdriver.support import expected_conditions as EC\n",
    "import pandas as pd\n",
    "from pymongo import MongoClient\n",
    "from collections.abc import Iterable\n",
    "import warnings\n",
    "import time\n",
    "import requests\n",
    "import urllib.request as urllib2\n",
    "from bs4 import BeautifulSoup\n",
    "from selenium.webdriver.common.keys import Keys\n",
    "from selenium.common.exceptions import NoSuchElementException\n",
    "from selenium.webdriver.support import expected_conditions\n",
    "from selenium.webdriver.common.action_chains import ActionChains\n",
    "from selenium.common.exceptions import TimeoutException\n",
    "from selenium.common.exceptions import StaleElementReferenceException\n",
    "from selenium.common.exceptions import ElementClickInterceptedException\n",
    "import selenium.common.exceptions\n",
    "from PIL import Image\n",
    "import requests\n",
    "from io import BytesIO\n"
   ]
  },
  {
   "cell_type": "code",
<<<<<<< HEAD
   "execution_count": 32,
=======
   "execution_count": 87,
>>>>>>> a44de7955ec1b92a13b845aeba21b029bea6687f
   "metadata": {},
   "outputs": [
    {
     "name": "stderr",
     "output_type": "stream",
     "text": [
      "/home/omarmohamed/anaconda3/lib/python3.7/site-packages/ipykernel_launcher.py:2: DeprecationWarning: use options instead of chrome_options\n",
      "  \n"
     ]
    }
   ],
   "source": [
    "chrome_options = webdriver.ChromeOptions()\n",
    "driver =webdriver.Chrome(r'/home/omarmohamed/myprojectdir/chromedriver',chrome_options=chrome_options)\n",
<<<<<<< HEAD
    "driver.get(\"https://www.facebook.com/\")"
   ]
  },
  {
   "cell_type": "code",
   "execution_count": 26,
   "metadata": {},
   "outputs": [],
   "source": [
    "def signin(email,password):\n",
    "    driver.find_elements_by_class_name(\"inputtext.login_form_input_box\")[0].send_keys(email)\n",
    "    driver.find_elements_by_class_name(\"inputtext.login_form_input_box\")[1].send_keys(password)\n",
    "    driver.find_element_by_class_name(\"login_form_login_button.uiButton.uiButtonConfirm\").click()\n",
    "    "
   ]
  },
  {
   "cell_type": "code",
   "execution_count": 33,
   "metadata": {},
   "outputs": [],
   "source": [
    "signin(email,password)"
   ]
  },
  {
   "cell_type": "code",
   "execution_count": 76,
   "metadata": {},
   "outputs": [],
   "source": [
    "dect_images=[]\n",
    "def collect_images():\n",
    "    while True:\n",
    "        driver.find_elements_by_class_name(\"j83agx80.btwxx1t3.taijpn5t\")[-1].send_keys(Keys.DOWN)\n",
    "        listOfLinks=driver.find_elements_by_class_name(\"i09qtzwb.n7fi1qx3.datstx6m.pmk7jnqg.j9ispegn.kr520xx4.k4urcfbm.bixrwtb6\")\n",
    "        for i in range(len(listOfLinks)):\n",
    "            dect_images.append(listOfLinks[i].get_attribute(\"src\"))\n",
    "        time.sleep(1)\n",
    "\n",
    "collect_images()\n",
    "response = requests.get(next(images))\n",
    "img = Image.open(BytesIO(response.content))\n",
    "img"
   ]
  },
  {
   "cell_type": "code",
   "execution_count": 47,
   "metadata": {},
   "outputs": [],
   "source": [
    "dect_text=[]\n",
    "def collect_text():\n",
    "    while True:\n",
    "        driver.find_elements_by_class_name(\"j83agx80.btwxx1t3.taijpn5t\")[-1].send_keys(Keys.DOWN)\n",
    "        ListOfLinks_text=driver.find_elements_by_class_name(\"kvgmc6g5.cxmmr5t8.oygrvhab.hcukyx3x.c1et5uql.ii04i59q\")\n",
    "        for i in range(len(ListOfLinks_text)):\n",
    "            dect_text.append(ListOfLinks_text[i].text)\n"
   ]
  },
  {
   "cell_type": "code",
   "execution_count": 58,
   "metadata": {},
   "outputs": [],
   "source": [
    "collect_text()"
=======
    "driver.get(\"https://www.facebook.com/groups/515523249396472/photos/\")"
>>>>>>> a44de7955ec1b92a13b845aeba21b029bea6687f
   ]
  },
  {
   "cell_type": "code",
<<<<<<< HEAD
   "execution_count": 57,
   "metadata": {},
   "outputs": [
    {
     "data": {
      "text/plain": [
       "{'',\n",
       " '#أحلي_ڤيو_في_مصر \\nمع الناس الطيبة الجميلة في سوق الجمال في الشلاتي\\nأقصى جنوب مصر',\n",
       " 'أحجز الأن في مرحلة الثانية لمشروع سوديك الجديد فى الشيخ زايد. ',\n",
       " 'ازاي تديها ضهرك ي متحرش...',\n",
       " 'الأميبيا اللي بياكل الدماغ ظهر في المياه في تامبا بفلوريدا....',\n",
       " 'الفيوم \\nوكأن البرازيل في جمالها',\n",
       " 'بعد ازن الجروب اريدشقه ايجارقديم تكون ثلاث غرف وصاله وحمام ومطبخ وغازطبيعي تكون ثلاث بلكونه اوالرابع,  لاتزيدعن 50الف والايجار550في المنيب اوابوزارع اوفي شارع المدبح ولكم جزيل الشكر01118853029وده رقمي الخاص والوتس وشكرن محمدابويوسف',\n",
       " 'زوجتي :السن ٣٧\\nكحة مستمرة ناشفة فقط مع العلم ان حصل اشتباه كرورونا من شهر ونص لوجود بعض الاعراض وراحت من فترة\\nودلوقتي في كحة ظهرت فجأة بقالها ٣ ايام',\n",
       " 'لكل عملاء هيونداي خارج الضمان.. استمتع بكشف مجاني لعربيتك وخصم ٤٠٪\\u061c على المصنعية وخصم يصل إلي ٣٠٪\\u061c على قطع الغيار مع إمكانية تقسيط التكلفة على 6 شهور بدون فوائد...\\nلمزيد من المعلومات، كلم ١٦٦٦١\\nتطبق الشروط والأحكام',\n",
       " 'لما الدنيا تيجي عليك بزيادة ',\n",
       " 'لو عايز تقول لحد \"استهدى بالله\" \"ماتضايقش \\nنفسك\" :',\n",
       " 'هذه 5 علامات تؤكد أنك تملك شخصية مرحة وتتحلى بروح الدعابة أكثر من غيرك..\\nتفاصيل : https://haltaalam.info/article/?p=12207',\n",
       " '▪︎من صفحةNetflix الرسمية '}"
      ]
     },
     "execution_count": 57,
     "metadata": {},
     "output_type": "execute_result"
    }
   ],
   "source": [
    "set(dect_text)"
=======
   "execution_count": 19,
   "metadata": {},
   "outputs": [],
   "source": [
    "def signin(email,password):\n",
    "    driver.find_elements_by_class_name(\"inputtext.login_form_input_box\")[0].send_keys(email)\n",
    "    driver.find_elements_by_class_name(\"inputtext.login_form_input_box\")[1].send_keys(password)\n",
    "    driver.find_element_by_class_name(\"login_form_login_button.uiButton.uiButtonConfirm\").click()\n",
    "    "
   ]
  },
  {
   "cell_type": "code",
   "execution_count": 88,
   "metadata": {},
   "outputs": [],
   "source": [
    "signin(email,password)"
   ]
  },
  {
   "cell_type": "code",
   "execution_count": 76,
   "metadata": {},
   "outputs": [],
   "source": [
    "dect_images=[]\n",
    "def collect_images():\n",
    "    while True:\n",
    "        driver.find_elements_by_class_name(\"j83agx80.btwxx1t3.taijpn5t\")[-1].send_keys(Keys.DOWN)\n",
    "        listOfLinks=driver.find_elements_by_class_name(\"i09qtzwb.n7fi1qx3.datstx6m.pmk7jnqg.j9ispegn.kr520xx4.k4urcfbm.bixrwtb6\")\n",
    "        for i in range(len(listOfLinks)):\n",
    "            dect_images.append(listOfLinks[i].get_attribute(\"src\"))\n",
    "        time.sleep(1)"
   ]
  },
  {
   "cell_type": "code",
   "execution_count": 1,
   "metadata": {},
   "outputs": [],
   "source": [
    "collect_images()"
   ]
  },
  {
   "cell_type": "code",
   "execution_count": null,
   "metadata": {},
   "outputs": [],
   "source": [
    "response = requests.get(next(images))\n",
    "img = Image.open(BytesIO(response.content))\n",
    "img"
>>>>>>> a44de7955ec1b92a13b845aeba21b029bea6687f
   ]
  },
  {
   "cell_type": "code",
<<<<<<< HEAD
=======
   "execution_count": 2,
   "metadata": {},
   "outputs": [],
   "source": []
  },
  {
   "cell_type": "code",
>>>>>>> a44de7955ec1b92a13b845aeba21b029bea6687f
   "execution_count": null,
   "metadata": {},
   "outputs": [],
   "source": []
  },
  {
   "cell_type": "code",
   "execution_count": null,
   "metadata": {},
   "outputs": [],
   "source": []
  },
  {
   "cell_type": "code",
   "execution_count": 64,
   "metadata": {},
   "outputs": [],
   "source": []
  },
  {
   "cell_type": "code",
   "execution_count": null,
   "metadata": {},
   "outputs": [],
   "source": []
  }
 ],
 "metadata": {
  "kernelspec": {
   "display_name": "Python 3",
   "language": "python",
   "name": "python3"
  },
  "language_info": {
   "codemirror_mode": {
    "name": "ipython",
    "version": 3
   },
   "file_extension": ".py",
   "mimetype": "text/x-python",
   "name": "python",
   "nbconvert_exporter": "python",
   "pygments_lexer": "ipython3",
   "version": "3.7.3"
  }
 },
 "nbformat": 4,
 "nbformat_minor": 4
}
